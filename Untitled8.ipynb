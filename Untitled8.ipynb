{
 "cells": [
  {
   "cell_type": "markdown",
   "id": "ee902723",
   "metadata": {},
   "source": [
    "# Regular Expressions Assignment\n"
   ]
  },
  {
   "cell_type": "markdown",
   "id": "42d52729",
   "metadata": {},
   "source": [
    "Assignment 1"
   ]
  },
  {
   "cell_type": "markdown",
   "id": "1e3765d9",
   "metadata": {},
   "source": [
    "# Question 1:-"
   ]
  },
  {
   "cell_type": "code",
   "execution_count": 4,
   "id": "6693e0c0",
   "metadata": {},
   "outputs": [],
   "source": [
    "import re"
   ]
  },
  {
   "cell_type": "code",
   "execution_count": 5,
   "id": "fc3de7a5",
   "metadata": {},
   "outputs": [],
   "source": [
    "text = 'Python Exercises, PHP exercises.'"
   ]
  },
  {
   "cell_type": "code",
   "execution_count": 6,
   "id": "9c2d0630",
   "metadata": {},
   "outputs": [
    {
     "name": "stdout",
     "output_type": "stream",
     "text": [
      "Python:Exercises::PHP:exercises:\n"
     ]
    }
   ],
   "source": [
    "print(re.sub(\"[ , .]\",\":\", text))"
   ]
  },
  {
   "cell_type": "markdown",
   "id": "68acd73f",
   "metadata": {},
   "source": [
    "# Question 2:-"
   ]
  },
  {
   "cell_type": "code",
   "execution_count": 36,
   "id": "62ae8336",
   "metadata": {},
   "outputs": [],
   "source": [
    "import pandas as pd\n",
    "import re\n",
    "\n",
    "data = { 'SUMMARY' : [ 'hello, world!',  'xxxxx test',  '123four, five:; six...']}\n",
    "df = pd.DataFrame(data)\n",
    "df['SUMMARY'] = df['SUMMARY'].apply(lambda x:\n",
    "re.sub(r'[^\\w\\s]', '', x))"
   ]
  },
  {
   "cell_type": "code",
   "execution_count": null,
   "id": "6595f324",
   "metadata": {},
   "outputs": [],
   "source": []
  },
  {
   "cell_type": "markdown",
   "id": "c152c02e",
   "metadata": {},
   "source": [
    "# Question 4:-"
   ]
  },
  {
   "cell_type": "code",
   "execution_count": 31,
   "id": "9b805ca3",
   "metadata": {},
   "outputs": [],
   "source": [
    "import re\n",
    "\n",
    "def find_words(string):\n",
    "    pattern = re.compile(r'\\b\\w{3,5}\\b')\n",
    "    matches = pattern.findall(string)\n",
    "    return matches"
   ]
  },
  {
   "cell_type": "code",
   "execution_count": 33,
   "id": "a6466875",
   "metadata": {},
   "outputs": [
    {
     "name": "stdout",
     "output_type": "stream",
     "text": [
      "['This', 'with', 'words']\n"
     ]
    }
   ],
   "source": [
    "string = \"This is a sample string with words of different lengths.\"\n",
    "result = find_words(string)\n",
    "print(result)"
   ]
  },
  {
   "cell_type": "markdown",
   "id": "17375f35",
   "metadata": {},
   "source": [
    "# Question 3:-"
   ]
  },
  {
   "cell_type": "code",
   "execution_count": 37,
   "id": "0c51c8df",
   "metadata": {},
   "outputs": [
    {
     "name": "stdout",
     "output_type": "stream",
     "text": [
      "['mountain', 'high', 'climb', 'within']\n"
     ]
    }
   ],
   "source": [
    "import re\n",
    "text = 'The mountain is too high to climb within 3 day.'\n",
    "print(re.findall(r\"\\b\\w{4,}\\b\",text))"
   ]
  },
  {
   "cell_type": "markdown",
   "id": "2f26c1ac",
   "metadata": {},
   "source": [
    "# Question 5:-"
   ]
  },
  {
   "cell_type": "code",
   "execution_count": 38,
   "id": "4c5f562a",
   "metadata": {},
   "outputs": [],
   "source": [
    "import re\n",
    "\n",
    "def remove_parentheses(strings):\n",
    "    pattern = re.compile(r\"\\(\\)\")\n",
    "    modified_strings = []\n",
    "    for string in strings:\n",
    "        modified_string = re.sub(pattern, \"\", string)\n",
    "        modified_strings.append(modified_string)\n",
    "        return modified_strings"
   ]
  },
  {
   "cell_type": "code",
   "execution_count": 42,
   "id": "8c9a42a7",
   "metadata": {},
   "outputs": [
    {
     "name": "stdout",
     "output_type": "stream",
     "text": [
      "['example (.com)']\n"
     ]
    }
   ],
   "source": [
    "sample_text = [\"example (.com)\", \"hr@fliprobo(.com)\",\"github(.com)\", \"Hello (Data Science World)\", \"Data(Scientist)\"]\n",
    "result = remove_parentheses(sample_text)\n",
    "print(result)"
   ]
  },
  {
   "cell_type": "markdown",
   "id": "c9a2ada2",
   "metadata": {},
   "source": [
    "# Question 6:-"
   ]
  },
  {
   "cell_type": "code",
   "execution_count": 47,
   "id": "4252ab04",
   "metadata": {},
   "outputs": [
    {
     "name": "stdout",
     "output_type": "stream",
     "text": [
      "['example (.com)']\n"
     ]
    }
   ],
   "source": [
    "import re\n",
    "\n",
    "sample_text = [\"example (.com)\", \"hr@fliprobo(.com)\",\"github(.com)\", \"Hello (Data Science World)\", \"Data(Scientist)\"]\n",
    "result = remove_parentheses(sample_text)\n",
    "\n",
    "print(result)"
   ]
  },
  {
   "cell_type": "markdown",
   "id": "f8674906",
   "metadata": {},
   "source": [
    "# Question 8:-"
   ]
  },
  {
   "cell_type": "code",
   "execution_count": 57,
   "id": "3493d7c4",
   "metadata": {},
   "outputs": [
    {
     "name": "stdout",
     "output_type": "stream",
     "text": [
      "Original Text:\n",
      "RegularExpression1IsAn2ImportantTopic3InPython\n",
      "\n",
      "Modified Text:\n",
      "RegularExpression1IsAn2ImportantTopic3InPython\n"
     ]
    }
   ],
   "source": [
    "def insert_spaces_before_numbers(text):\n",
    "    pattern = re.compile(r'\\b(\\d\\w+)\\b')\n",
    "    result_text = pattern.sub(r' \\1', text)\n",
    "    return result_text\n",
    "sample_text = \"RegularExpression1IsAn2ImportantTopic3InPython\"\n",
    "modified_text = insert_spaces_before_numbers(sample_text)\n",
    "print(\"Original Text:\")\n",
    "print(insert_spaces_before_numbers(sample_text))\n",
    "print(\"\\nModified Text:\")\n",
    "print(modified_text)\n",
    "\n"
   ]
  },
  {
   "cell_type": "markdown",
   "id": "5744e6bc",
   "metadata": {},
   "source": [
    "# Question 9:-"
   ]
  },
  {
   "cell_type": "code",
   "execution_count": 58,
   "id": "9dc88404",
   "metadata": {},
   "outputs": [
    {
     "name": "stdout",
     "output_type": "stream",
     "text": [
      "Original Text:\n",
      "RegularExpression1IsAn2ImportantTopic3InPython\n",
      "\n",
      "Modified Text:\n",
      " RegularExpression1IsAn2ImportantTopic3InPython\n"
     ]
    }
   ],
   "source": [
    "import re\n",
    "def insert_spaces_between_capital_and_numbers(text):\n",
    "    pattern = re.compile(r'\\b([A-Z\\d]\\w*)\\b')\n",
    "    result_text = pattern.sub(r' \\1', text)\n",
    "    return result_text\n",
    "sample_text = \"RegularExpression1IsAn2ImportantTopic3InPython\"\n",
    "modified_text = insert_spaces_between_capital_and_numbers(sample_text)\n",
    "print(\"Original Text:\")\n",
    "print(sample_text)\n",
    "print(\"\\nModified Text:\")\n",
    "print(modified_text)"
   ]
  },
  {
   "cell_type": "markdown",
   "id": "86b49897",
   "metadata": {},
   "source": [
    "# Question 11:-"
   ]
  },
  {
   "cell_type": "code",
   "execution_count": 59,
   "id": "bb6b33b8",
   "metadata": {},
   "outputs": [
    {
     "name": "stdout",
     "output_type": "stream",
     "text": [
      "Not matched!\n",
      "Found a match!\n"
     ]
    }
   ],
   "source": [
    "import re\n",
    "def text_match(text):\n",
    "        patterns = '^[a-zA-Z0-9_]*$'\n",
    "        if re.search(patterns,  text):\n",
    "                return 'Found a match!'\n",
    "        else:\n",
    "                return('Not matched!')\n",
    "\n",
    "print(text_match(\"The quick brown fox jumps over the lazy dog.\"))\n",
    "print(text_match(\"Python_Exercises_1\"))"
   ]
  },
  {
   "cell_type": "markdown",
   "id": "76cad0c6",
   "metadata": {},
   "source": [
    "# Question 12:-"
   ]
  },
  {
   "cell_type": "code",
   "execution_count": 60,
   "id": "c0101a0b",
   "metadata": {},
   "outputs": [
    {
     "name": "stdout",
     "output_type": "stream",
     "text": [
      "True\n",
      "False\n"
     ]
    }
   ],
   "source": [
    "import re\n",
    "def match_num(string):\n",
    "    text = re.compile(r\"^5\")\n",
    "    if text.match(string):\n",
    "        return True\n",
    "    else:\n",
    "        return False\n",
    "print(match_num('5-2345861'))\n",
    "print(match_num('6-2345861'))"
   ]
  },
  {
   "cell_type": "markdown",
   "id": "f3fe6be2",
   "metadata": {},
   "source": [
    "# Question 13:-"
   ]
  },
  {
   "cell_type": "code",
   "execution_count": 61,
   "id": "1bd8e6c2",
   "metadata": {},
   "outputs": [
    {
     "name": "stdout",
     "output_type": "stream",
     "text": [
      "192.158.1.38.\n"
     ]
    }
   ],
   "source": [
    "import re\n",
    "ip = \"192.158.1.38.\"\n",
    "string = re.sub('\\.[0]*', '.', ip)\n",
    "print(string)\n"
   ]
  },
  {
   "cell_type": "markdown",
   "id": "c5054bc8",
   "metadata": {},
   "source": [
    "# Question 14:-"
   ]
  },
  {
   "cell_type": "code",
   "execution_count": 62,
   "id": "643d5a59",
   "metadata": {},
   "outputs": [
    {
     "name": "stdout",
     "output_type": "stream",
     "text": [
      "['August']\n"
     ]
    }
   ],
   "source": [
    "import re\n",
    "\n",
    "text = \"On August 15th 1947 that India was declared independent from British colonialism, and the reins of control were handed over to the leaders of the Country.\"\n",
    "\n",
    "pattern = r\"\\b([A-Z][a-z]+) \\d{1,2}(?:st|nd|rd|th)? \\d{4}\\b\"\n",
    "\n",
    "matches = re.findall(pattern, text)\n",
    "print(matches)"
   ]
  },
  {
   "cell_type": "markdown",
   "id": "714dcc01",
   "metadata": {},
   "source": [
    "# Question 15:-"
   ]
  },
  {
   "cell_type": "code",
   "execution_count": 63,
   "id": "d442e7b1",
   "metadata": {},
   "outputs": [
    {
     "name": "stdout",
     "output_type": "stream",
     "text": [
      "Searching for \"fox\" in \"The quick brown fox jumps over the lazy dog.\" ->\n",
      "Matched!\n",
      "Searching for \"dog\" in \"The quick brown fox jumps over the lazy dog.\" ->\n",
      "Matched!\n",
      "Searching for \"horse\" in \"The quick brown fox jumps over the lazy dog.\" ->\n",
      "Not Matched!\n"
     ]
    }
   ],
   "source": [
    "import re\n",
    "patterns = [ 'fox', 'dog', 'horse' ]\n",
    "text = 'The quick brown fox jumps over the lazy dog.'\n",
    "for pattern in patterns:\n",
    "    print('Searching for \"%s\" in \"%s\" ->' % (pattern, text),)\n",
    "    if re.search(pattern,  text):\n",
    "        print('Matched!')\n",
    "    else:\n",
    "        print('Not Matched!')"
   ]
  },
  {
   "cell_type": "markdown",
   "id": "7da3f4b9",
   "metadata": {},
   "source": [
    "# Question 16:-"
   ]
  },
  {
   "cell_type": "code",
   "execution_count": 64,
   "id": "4a87e9a2",
   "metadata": {},
   "outputs": [
    {
     "name": "stdout",
     "output_type": "stream",
     "text": [
      "Found \"fox\" in \"The quick brown fox jumps over the lazy dog.\" from 16 to 19 \n"
     ]
    }
   ],
   "source": [
    "import re\n",
    "pattern = 'fox'\n",
    "text = 'The quick brown fox jumps over the lazy dog.'\n",
    "match = re.search(pattern, text)\n",
    "s = match.start()\n",
    "e = match.end()\n",
    "print('Found \"%s\" in \"%s\" from %d to %d ' % \\\n",
    "    (match.re.pattern, match.string, s, e))\n"
   ]
  },
  {
   "cell_type": "markdown",
   "id": "2a928d5c",
   "metadata": {},
   "source": [
    "# Question 17:-"
   ]
  },
  {
   "cell_type": "code",
   "execution_count": 65,
   "id": "c8d5fb57",
   "metadata": {},
   "outputs": [
    {
     "name": "stdout",
     "output_type": "stream",
     "text": [
      "Found \"exercises\"\n",
      "Found \"exercises\"\n",
      "Found \"exercises\"\n"
     ]
    }
   ],
   "source": [
    "import re\n",
    "text = 'Python exercises, PHP exercises, C# exercises'\n",
    "pattern = 'exercises'\n",
    "for match in re.findall(pattern, text):\n",
    "    print('Found \"%s\"' % match)"
   ]
  },
  {
   "cell_type": "markdown",
   "id": "bdb53be1",
   "metadata": {},
   "source": [
    "# Question 18:-"
   ]
  },
  {
   "cell_type": "code",
   "execution_count": 66,
   "id": "1fa94e86",
   "metadata": {},
   "outputs": [
    {
     "name": "stdout",
     "output_type": "stream",
     "text": [
      "Found \"exercises\" at 7:16\n",
      "Found \"exercises\" at 22:31\n",
      "Found \"exercises\" at 36:45\n"
     ]
    }
   ],
   "source": [
    "import re\n",
    "text = 'Python exercises, PHP exercises, C# exercises'\n",
    "pattern = 'exercises'\n",
    "for match in re.finditer(pattern, text):\n",
    "    s = match.start()\n",
    "    e = match.end()\n",
    "    print('Found \"%s\" at %d:%d' % (text[s:e], s, e))\n"
   ]
  },
  {
   "cell_type": "markdown",
   "id": "d7f6e4f3",
   "metadata": {},
   "source": [
    "# Question 19:-"
   ]
  },
  {
   "cell_type": "code",
   "execution_count": 67,
   "id": "bf340a78",
   "metadata": {},
   "outputs": [
    {
     "name": "stdout",
     "output_type": "stream",
     "text": [
      "Original date in YYY-MM-DD Format:  2026-01-02\n",
      "New date in DD-MM-YYYY Format:  02-01-2026\n"
     ]
    }
   ],
   "source": [
    "import re\n",
    "def change_date_format(dt):\n",
    "        return re.sub(r'(\\d{4})-(\\d{1,2})-(\\d{1,2})', '\\\\3-\\\\2-\\\\1', dt)\n",
    "dt1 = \"2026-01-02\"\n",
    "print(\"Original date in YYY-MM-DD Format: \",dt1)\n",
    "print(\"New date in DD-MM-YYYY Format: \",change_date_format(dt1))"
   ]
  },
  {
   "cell_type": "markdown",
   "id": "c3f8746f",
   "metadata": {},
   "source": [
    "# Question 20:-"
   ]
  },
  {
   "cell_type": "code",
   "execution_count": 68,
   "id": "4e0ceed6",
   "metadata": {},
   "outputs": [
    {
     "name": "stdout",
     "output_type": "stream",
     "text": [
      "['01.12', '0132.12', '2.31', '145.8', '3.01', '27.25', '0.25']\n"
     ]
    }
   ],
   "source": [
    "import re\n",
    "\n",
    "def find_decimal_numbers(string):\n",
    "  pattern = re.compile(r'\\d+\\.\\d{1,2}')\n",
    "  decimal_numbers = re.findall(pattern, string)\n",
    "  return decimal_numbers\n",
    "sample_text = \"01.12 0132.123 2.31875 145.8 3.01 27.25 0.25\"\n",
    "output = find_decimal_numbers(sample_text)\n",
    "print(output)"
   ]
  },
  {
   "cell_type": "markdown",
   "id": "6673fda7",
   "metadata": {},
   "source": [
    "# Question 21:-"
   ]
  },
  {
   "cell_type": "code",
   "execution_count": 69,
   "id": "a8265241",
   "metadata": {},
   "outputs": [
    {
     "name": "stdout",
     "output_type": "stream",
     "text": [
      "50\n",
      "Index position: 62\n"
     ]
    }
   ],
   "source": [
    "import re\n",
    "# Input.\n",
    "text = \"The following example creates an ArrayList with a capacity of 50 elements. Four elements are then added to the ArrayList and the ArrayList is trimmed accordingly.\"\n",
    "\n",
    "for m in re.finditer(\"\\d+\", text):\n",
    "    print(m.group(0))\n",
    "    print(\"Index position:\", m.start())"
   ]
  },
  {
   "cell_type": "markdown",
   "id": "661e587c",
   "metadata": {},
   "source": [
    "# Question 22:-"
   ]
  },
  {
   "cell_type": "code",
   "execution_count": 70,
   "id": "dde332da",
   "metadata": {},
   "outputs": [
    {
     "name": "stdout",
     "output_type": "stream",
     "text": [
      "950\n"
     ]
    }
   ],
   "source": [
    "import re\n",
    "\n",
    "input_string = 'My marks in each semester are: 947, 896, 926, 524, 734, 950, 642'\n",
    "\n",
    "numeric_values = re.findall(r'\\d+', input_string)\n",
    "numeric_values = [int(value) for value in numeric_values]\n",
    "\n",
    "max_value = max(numeric_values)\n",
    "\n",
    "print(max_value)"
   ]
  },
  {
   "cell_type": "markdown",
   "id": "3e83aaea",
   "metadata": {},
   "source": [
    "# Question 23:-"
   ]
  },
  {
   "cell_type": "code",
   "execution_count": 74,
   "id": "dc3e991a",
   "metadata": {},
   "outputs": [
    {
     "ename": "IndentationError",
     "evalue": "unexpected indent (2621908164.py, line 10)",
     "output_type": "error",
     "traceback": [
      "\u001b[1;36m  Cell \u001b[1;32mIn[74], line 10\u001b[1;36m\u001b[0m\n\u001b[1;33m    return result\u001b[0m\n\u001b[1;37m    ^\u001b[0m\n\u001b[1;31mIndentationError\u001b[0m\u001b[1;31m:\u001b[0m unexpected indent\n"
     ]
    }
   ],
   "source": [
    "import re\n",
    "\n",
    "def insert_spaces(text):\n",
    "    pattern = r'([A-Z][a-z]+)'\n",
    "    result = re.sub(pattern, r' \\1', text)\n",
    "    result = result.strip()\n",
    "sample_text = \"RegularExpressionIsAnImportantTopicInPython\"\n",
    "output = insert_spaces(sample_text)\n",
    "print(output)\n",
    " return result"
   ]
  },
  {
   "cell_type": "markdown",
   "id": "b4913431",
   "metadata": {},
   "source": [
    "# Question 24:-"
   ]
  },
  {
   "cell_type": "code",
   "execution_count": 75,
   "id": "9f2da1b5",
   "metadata": {},
   "outputs": [
    {
     "name": "stdout",
     "output_type": "stream",
     "text": [
      "Found a match!\n",
      "Found a match!\n",
      "Not matched!\n",
      "Not matched!\n",
      "Not matched!\n",
      "Found a match!\n"
     ]
    }
   ],
   "source": [
    "import re\n",
    "def text_match(text):\n",
    "        patterns = '[A-Z]+[a-z]+$'\n",
    "        if re.search(patterns, text):\n",
    "                return 'Found a match!'\n",
    "        else:\n",
    "                return('Not matched!')\n",
    "print(text_match(\"AaBbGg\"))\n",
    "print(text_match(\"Python\"))\n",
    "print(text_match(\"python\"))\n",
    "print(text_match(\"PYTHON\"))\n",
    "print(text_match(\"aA\"))\n",
    "print(text_match(\"Aa\"))"
   ]
  },
  {
   "cell_type": "markdown",
   "id": "2e780e6f",
   "metadata": {},
   "source": [
    "# Question 26:-"
   ]
  },
  {
   "cell_type": "code",
   "execution_count": null,
   "id": "60279a58",
   "metadata": {},
   "outputs": [],
   "source": [
    "import re \n",
    "def check(ip_str):  \n",
    "    re_exp = '[a-zA-z0-9]$'\n",
    "    if(re.search(re_exp, ip_str)):  \n",
    "        return \"The string is ending with alphanumeric char!\"  \n",
    "          \n",
    "    else:  \n",
    "        return \"The string does not ends with alphanumeric char!\"      \n",
    "      \n",
    "ip_str = input(\"Enter the string: \")\n",
    "print(check(ip_str))"
   ]
  },
  {
   "cell_type": "markdown",
   "id": "06d04b83",
   "metadata": {},
   "source": [
    "# Question 27:-"
   ]
  },
  {
   "cell_type": "code",
   "execution_count": null,
   "id": "e9d1e50a",
   "metadata": {},
   "outputs": [],
   "source": [
    "import re\n",
    "\n",
    "def extract_hashtags(text):\n",
    "  hashtags = re.findall(r'#\\w+', text)\n",
    "  return hashtags\n",
    "text = 'RT @kapil_kausik: #Doltiwal I mean #xyzabc is \"hurt\" by #Demonetization as the same has rendered USELESS <ed><U+00A0><U+00BD><ed><U+00B1><U+0089> \"acquired funds\" No wo'\n",
    "hashtags = extract_hashtags(text)\n",
    "print(hashtags)"
   ]
  },
  {
   "cell_type": "markdown",
   "id": "e0324bc0",
   "metadata": {},
   "source": [
    "# Question 28:-"
   ]
  },
  {
   "cell_type": "code",
   "execution_count": null,
   "id": "9dba734e",
   "metadata": {},
   "outputs": [],
   "source": [
    "import re\n",
    "\n",
    "input_text =input_text = \"@Jags123456 Bharat band on 28??<ed><U+00A0><U+00BD><ed><U+00B8><U+0082>Those who are protesting #demonetization are all different party leaders\"\n",
    "pattern = r\"<U\\+\\w{4}>\"\n",
    "output_text = re.sub(pattern, \"\", input_text)\n",
    "\n",
    "print(output_text)"
   ]
  },
  {
   "cell_type": "code",
   "execution_count": null,
   "id": "fe870323",
   "metadata": {},
   "outputs": [],
   "source": []
  }
 ],
 "metadata": {
  "kernelspec": {
   "display_name": "Python 3 (ipykernel)",
   "language": "python",
   "name": "python3"
  },
  "language_info": {
   "codemirror_mode": {
    "name": "ipython",
    "version": 3
   },
   "file_extension": ".py",
   "mimetype": "text/x-python",
   "name": "python",
   "nbconvert_exporter": "python",
   "pygments_lexer": "ipython3",
   "version": "3.10.9"
  }
 },
 "nbformat": 4,
 "nbformat_minor": 5
}
